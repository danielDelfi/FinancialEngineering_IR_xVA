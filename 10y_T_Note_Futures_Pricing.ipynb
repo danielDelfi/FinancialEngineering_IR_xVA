{
  "cells": [
    {
      "cell_type": "markdown",
      "metadata": {
        "id": "view-in-github",
        "colab_type": "text"
      },
      "source": [
        "<a href=\"https://colab.research.google.com/github/danielDelfi/FinancialEngineering_IR_xVA/blob/main/10y_T_Note_Futures_Pricing.ipynb\" target=\"_parent\"><img src=\"https://colab.research.google.com/assets/colab-badge.svg\" alt=\"Open In Colab\"/></a>"
      ]
    },
    {
      "cell_type": "code",
      "execution_count": null,
      "metadata": {
        "id": "nkpJFK8nHfQc",
        "colab": {
          "base_uri": "https://localhost:8080/",
          "height": 373
        },
        "outputId": "705ccb2c-cffb-4cf6-d28f-fa31e213b20f"
      },
      "outputs": [
        {
          "output_type": "error",
          "ename": "ModuleNotFoundError",
          "evalue": "ignored",
          "traceback": [
            "\u001b[0;31m---------------------------------------------------------------------------\u001b[0m",
            "\u001b[0;31mModuleNotFoundError\u001b[0m                       Traceback (most recent call last)",
            "\u001b[0;32m<ipython-input-2-4eba4e31100f>\u001b[0m in \u001b[0;36m<module>\u001b[0;34m\u001b[0m\n\u001b[1;32m      4\u001b[0m \u001b[0;31m# Due to the quality option, assume that the short futures holder can deliver a T-note with the lowest allowed time to maturity, i.e. 6.6 years.\u001b[0m\u001b[0;34m\u001b[0m\u001b[0;34m\u001b[0m\u001b[0;34m\u001b[0m\u001b[0m\n\u001b[1;32m      5\u001b[0m \u001b[0;34m\u001b[0m\u001b[0m\n\u001b[0;32m----> 6\u001b[0;31m \u001b[0;32mfrom\u001b[0m \u001b[0mQuantLib\u001b[0m \u001b[0;32mimport\u001b[0m \u001b[0;34m*\u001b[0m\u001b[0;34m\u001b[0m\u001b[0;34m\u001b[0m\u001b[0m\n\u001b[0m\u001b[1;32m      7\u001b[0m \u001b[0;34m\u001b[0m\u001b[0m\n\u001b[1;32m      8\u001b[0m \u001b[0;31m# set the date on which bond and futures are priced\u001b[0m\u001b[0;34m\u001b[0m\u001b[0;34m\u001b[0m\u001b[0;34m\u001b[0m\u001b[0m\n",
            "\u001b[0;31mModuleNotFoundError\u001b[0m: No module named 'QuantLib'",
            "",
            "\u001b[0;31m---------------------------------------------------------------------------\u001b[0;32m\nNOTE: If your import is failing due to a missing package, you can\nmanually install dependencies using either !pip or !apt.\n\nTo view examples of installing some common dependencies, click the\n\"Open Examples\" button below.\n\u001b[0;31m---------------------------------------------------------------------------\u001b[0m\n"
          ],
          "errorDetails": {
            "actions": [
              {
                "action": "open_url",
                "actionText": "Open Examples",
                "url": "/notebooks/snippets/importing_libraries.ipynb"
              }
            ]
          }
        }
      ],
      "source": [
        "# Pricing function for 10y Treasury futures\n",
        "\n",
        "# First, price a generic 10y Treasury Note with an arbitrary coupon (as long as the yield is below 6%) but with only 6.6 years to maturity.\n",
        "# Due to the quality option, assume that the short futures holder can deliver a T-note with the lowest allowed time to maturity, i.e. 6.6 years.\n",
        "\n",
        "from QuantLib import *\n",
        "\n",
        "# set the date on which bond and futures are priced\n",
        "pricingDate = Date(8, 2, 2023) # futures is priced on Feb 8, 2023\n",
        "Settings.instance().evaluationDate = pricingDate\n",
        "\n",
        "# create a yield curve to be used for pricing bond and futures  \n",
        "# yields are constant-maturity and coupon-bearing, but here assumed to be spot rates\n",
        "#\"2023-02-08 00:00:00\": {\"10y\": 3.63, \"1m\": 4.64, \"1y\": 4.87, \"20y\": 3.86, \"2y\": 4.45, \"30y\": 3.7, \"3m\": 4.72, \"3y\": 4.08, \"5y\": 3.82, \"6m\": 4.88, \"7y\": 3.75}\n",
        "\n",
        "spotDates = [Date(8,2,2023),\n",
        "            Date(8,3,2023), Date(8,5,2023), Date(8,8,2023), Date(8,2,2024), Date(10,2,2025), Date(9,2,2026),\n",
        "            Date(8,2,2028), Date(8,2,2030), Date(8,2,2033), Date(10,2,2053)] # skipping 20y yield to have a smoother curve\n",
        "\n",
        "spotRates = [0.00,\n",
        "            0.0464, 0.0472, 0.0488, 0.0487, 0.0445, 0.0408, 0.0382, 0.0375, 0.0363, 0.0370] # skipping 20y yield # pulled from Fed's yield curve data\n",
        "\n",
        "dayCount = ActualActual(ActualActual.Bond) # this counts days for the purpose of calculating accrued interest (dirty bond price) using the bond market convention\n",
        "calendar = UnitedStates(UnitedStates.GovernmentBond) # adjusts for the holidays and non-trading days in the Treasury market\n",
        "interpolation = Linear() # use linear interpolation to get yields for all maturities  \n",
        "compounding = Compounded # turn on compounding\n",
        "compoundingFrequency = Semiannual # semiannual rule used by the Treasury market\n",
        "spotCurve = ZeroCurve(spotDates, spotRates, dayCount, calendar, \n",
        "                      interpolation, compounding, compoundingFrequency) # this function simply collects yields and interpolates feeded yields \n",
        "                      # (and adjusts for calendar and compounding); it does not create a zero-coupon curve\n",
        "\n",
        "spotCurveHandle = YieldTermStructureHandle(spotCurve) # yield curve object passed into a pricing function below\n",
        "\n",
        "# spotCurve.nodes() # uncomment to check the rates input in the ZeroCurve object "
      ]
    },
    {
      "cell_type": "code",
      "execution_count": null,
      "metadata": {
        "id": "h35D0HoXHfQe",
        "colab": {
          "base_uri": "https://localhost:8080/",
          "height": 235
        },
        "outputId": "2d7c07e3-c056-4b33-9bc1-3f7b3c9f1748"
      },
      "outputs": [
        {
          "output_type": "error",
          "ename": "NameError",
          "evalue": "ignored",
          "traceback": [
            "\u001b[0;31m---------------------------------------------------------------------------\u001b[0m",
            "\u001b[0;31mNameError\u001b[0m                                 Traceback (most recent call last)",
            "\u001b[0;32m<ipython-input-1-afd71212b5dd>\u001b[0m in \u001b[0;36m<module>\u001b[0;34m\u001b[0m\n\u001b[1;32m      1\u001b[0m \u001b[0;31m# Construct cash flow schedule\u001b[0m\u001b[0;34m\u001b[0m\u001b[0;34m\u001b[0m\u001b[0;34m\u001b[0m\u001b[0m\n\u001b[0;32m----> 2\u001b[0;31m \u001b[0missueDate\u001b[0m \u001b[0;34m=\u001b[0m \u001b[0mDate\u001b[0m\u001b[0;34m(\u001b[0m\u001b[0;36m18\u001b[0m\u001b[0;34m,\u001b[0m \u001b[0;36m2\u001b[0m\u001b[0;34m,\u001b[0m \u001b[0;36m2020\u001b[0m\u001b[0;34m)\u001b[0m \u001b[0;31m# date Treasury was issued\u001b[0m\u001b[0;34m\u001b[0m\u001b[0;34m\u001b[0m\u001b[0m\n\u001b[0m\u001b[1;32m      3\u001b[0m \u001b[0mmaturityDate\u001b[0m \u001b[0;34m=\u001b[0m \u001b[0mDate\u001b[0m\u001b[0;34m(\u001b[0m\u001b[0;36m15\u001b[0m\u001b[0;34m,\u001b[0m \u001b[0;36m2\u001b[0m\u001b[0;34m,\u001b[0m \u001b[0;36m2030\u001b[0m\u001b[0;34m)\u001b[0m \u001b[0;31m# date Treasury matures\u001b[0m\u001b[0;34m\u001b[0m\u001b[0;34m\u001b[0m\u001b[0m\n\u001b[1;32m      4\u001b[0m \u001b[0mperiod\u001b[0m \u001b[0;34m=\u001b[0m \u001b[0mPeriod\u001b[0m\u001b[0;34m(\u001b[0m\u001b[0mSemiannual\u001b[0m\u001b[0;34m)\u001b[0m \u001b[0;31m# Treasury coupons are paid every six months\u001b[0m\u001b[0;34m\u001b[0m\u001b[0;34m\u001b[0m\u001b[0m\n\u001b[1;32m      5\u001b[0m \u001b[0mcalendar\u001b[0m \u001b[0;34m=\u001b[0m \u001b[0mUnitedStates\u001b[0m\u001b[0;34m(\u001b[0m\u001b[0mUnitedStates\u001b[0m\u001b[0;34m.\u001b[0m\u001b[0mGovernmentBond\u001b[0m\u001b[0;34m)\u001b[0m \u001b[0;31m# calendar for the US Treasury market\u001b[0m\u001b[0;34m\u001b[0m\u001b[0;34m\u001b[0m\u001b[0m\n",
            "\u001b[0;31mNameError\u001b[0m: name 'Date' is not defined"
          ]
        }
      ],
      "source": [
        "# Construct cash flow schedule\n",
        "issueDate = Date(18, 2, 2020) # date Treasury was issued\n",
        "maturityDate = Date(15, 2, 2030) # date Treasury matures\n",
        "period = Period(Semiannual) # Treasury coupons are paid every six months  \n",
        "calendar = UnitedStates(UnitedStates.GovernmentBond) # calendar for the US Treasury market\n",
        "businessConvention = Following # this is to ensure that coupons are paid on business days\n",
        "dateGeneration = DateGeneration.Backward # generate dates for coupon payments according to the calendar and business days\n",
        "monthEnd = False # technical, requires that dates be end of month\n",
        "\n",
        "schedule = Schedule(issueDate, maturityDate, period, calendar, \n",
        "                    businessConvention, businessConvention, dateGeneration, monthEnd) # sets up cash flow schedule\n",
        "\n",
        "couponRate = [0.01625] # this is supposed to be an arbitrary coupon rate than can be adjusted for by the conversion factor below\n",
        "settlementDays = 0 # technical, adjusts for mismatch between trade and settlement\n",
        "faceValue = 100 # price quoted per $100 par or face value\n",
        "\n",
        "fixedRateBond = FixedRateBond(settlementDays, faceValue, schedule, couponRate, dayCount)\n",
        "                # sets up the bond object to be passed into pricing function below"
      ]
    },
    {
      "cell_type": "code",
      "execution_count": null,
      "metadata": {
        "colab": {
          "base_uri": "https://localhost:8080/"
        },
        "id": "qi-KmFqaHfQf",
        "outputId": "58fffff2-d913-4648-9458-0af88e4b4f80"
      },
      "outputs": [
        {
          "output_type": "stream",
          "name": "stdout",
          "text": [
            "Clean Price: 86.98198683382589\n",
            "Dirty Price: 87.76357650773893\n",
            "Accrued Interest: 0.7815896739130411\n",
            "Pricing as of: February 8th, 2023\n"
          ]
        }
      ],
      "source": [
        "# price the bond using the constructed yield curve\n",
        "bondEngine = DiscountingBondEngine(spotCurveHandle)\n",
        "fixedRateBond.setPricingEngine(bondEngine)\n",
        "\n",
        "#print(fixedRateBond.NPV())\n",
        "print('Clean Price:', fixedRateBond.cleanPrice())\n",
        "print('Dirty Price:', fixedRateBond.dirtyPrice())\n",
        "print('Accrued Interest:', fixedRateBond.accruedAmount())\n",
        "#print('Day Counting:', fixedRateBond.dayCounter())\n",
        "print('Pricing as of:', pricingDate)"
      ]
    },
    {
      "cell_type": "code",
      "execution_count": null,
      "metadata": {
        "colab": {
          "base_uri": "https://localhost:8080/"
        },
        "id": "D2JRSzeuHfQf",
        "outputId": "7eb48205-00eb-474a-c560-18a584ac68de"
      },
      "outputs": [
        {
          "output_type": "stream",
          "name": "stdout",
          "text": [
            "Model Futures Price: 113.5354892861363\n",
            "Market Futures Price: 113.25\n"
          ]
        }
      ],
      "source": [
        "# As stated above, assume that the priced bond with 6y6m left to maturity is cheapest-to-deliver and the\n",
        "# futures contract matures in March 2023 \n",
        "# (T-Note futures have four maturity months: March, June, September, and December)\n",
        "futuresSettlementDate = Date(22,3,2023) # settlement date for the March 23 futures \n",
        "strike = 100 # par value\n",
        "ctdBond = fixedRateBond # price of the underlying 10y bond\n",
        "ctdConversionFactor = 0.7674 # this is the conversion factor for a bond with 6y6m left to maturity and a coupon of 1.625%\n",
        "            # converstion factors are published by CME at \n",
        "            # https://www.cmegroup.com/trading/interest-rates/us-treasury-futures-conversion-factor-lookup-tables.html\n",
        "\n",
        "futures = FixedRateBondForward(pricingDate, futuresSettlementDate, \n",
        "                                  Position.Long, strike, settlementDays,\n",
        "                                  dayCount, calendar, businessConvention,\n",
        "                                  ctdBond, spotCurveHandle, spotCurveHandle)\n",
        "\n",
        "futuresPrice = futures.cleanForwardPrice()/ctdConversionFactor\n",
        "print('Model Futures Price:',futuresPrice)\n",
        "print('Market Futures Price:',113.25)"
      ]
    },
    {
      "cell_type": "code",
      "execution_count": null,
      "metadata": {
        "id": "iiUyEtftHfQg"
      },
      "outputs": [],
      "source": []
    }
  ],
  "metadata": {
    "kernelspec": {
      "display_name": "Python 3",
      "language": "python",
      "name": "python3"
    },
    "language_info": {
      "codemirror_mode": {
        "name": "ipython",
        "version": 3
      },
      "file_extension": ".py",
      "mimetype": "text/x-python",
      "name": "python",
      "nbconvert_exporter": "python",
      "pygments_lexer": "ipython3",
      "version": "3.8.5"
    },
    "colab": {
      "provenance": [],
      "include_colab_link": true
    }
  },
  "nbformat": 4,
  "nbformat_minor": 0
}